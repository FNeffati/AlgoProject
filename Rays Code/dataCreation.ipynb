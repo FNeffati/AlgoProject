{
 "cells": [
  {
   "cell_type": "code",
   "execution_count": 2,
   "metadata": {},
   "outputs": [],
   "source": [
    "import pandas as pd\n"
   ]
  },
  {
   "cell_type": "markdown",
   "metadata": {},
   "source": [
    "Take note of the following: \n",
    "1. Let Student $=$ the Student that is being enrolled\n",
    "1. Let Status $=$ the year and degree the student is in\n",
    "1. Let Day_Completed $=$ the day the student completes orientation"
   ]
  },
  {
   "cell_type": "code",
   "execution_count": 14,
   "metadata": {},
   "outputs": [
    {
     "ename": "ValueError",
     "evalue": "Length of values (17) does not match length of index (31)",
     "output_type": "error",
     "traceback": [
      "\u001b[1;31m---------------------------------------------------------------------------\u001b[0m",
      "\u001b[1;31mValueError\u001b[0m                                Traceback (most recent call last)",
      "\u001b[1;32mc:\\Users\\rayli\\Desktop\\Algorithms\\Project1\\project.ipynb Cell 3\u001b[0m line \u001b[0;36m1\n\u001b[0;32m     <a href='vscode-notebook-cell:/c%3A/Users/rayli/Desktop/Algorithms/Project1/project.ipynb#W2sZmlsZQ%3D%3D?line=15'>16</a>\u001b[0m         group \u001b[39m=\u001b[39m group\u001b[39m.\u001b[39msort_values(by\u001b[39m=\u001b[39m\u001b[39m'\u001b[39m\u001b[39mDay completed\u001b[39m\u001b[39m'\u001b[39m)\n\u001b[0;32m     <a href='vscode-notebook-cell:/c%3A/Users/rayli/Desktop/Algorithms/Project1/project.ipynb#W2sZmlsZQ%3D%3D?line=16'>17</a>\u001b[0m         assigned_weights\u001b[39m.\u001b[39mextend([\u001b[39m1\u001b[39m\u001b[39m/\u001b[39m (i \u001b[39m+\u001b[39m\u001b[39m1\u001b[39m)] \u001b[39mfor\u001b[39;00m i \u001b[39min\u001b[39;00m \u001b[39mrange\u001b[39m(\u001b[39mlen\u001b[39m(group)))\n\u001b[1;32m---> <a href='vscode-notebook-cell:/c%3A/Users/rayli/Desktop/Algorithms/Project1/project.ipynb#W2sZmlsZQ%3D%3D?line=18'>19</a>\u001b[0m data_frame_project[\u001b[39m'\u001b[39;49m\u001b[39mWeight\u001b[39;49m\u001b[39m'\u001b[39;49m] \u001b[39m=\u001b[39m assigned_weights\n\u001b[0;32m     <a href='vscode-notebook-cell:/c%3A/Users/rayli/Desktop/Algorithms/Project1/project.ipynb#W2sZmlsZQ%3D%3D?line=20'>21</a>\u001b[0m \u001b[39mprint\u001b[39m(data_frame_project)\n",
      "File \u001b[1;32mc:\\Users\\rayli\\AppData\\Local\\Programs\\Python\\Python311\\Lib\\site-packages\\pandas\\core\\frame.py:4094\u001b[0m, in \u001b[0;36mDataFrame.__setitem__\u001b[1;34m(self, key, value)\u001b[0m\n\u001b[0;32m   4091\u001b[0m     \u001b[39mself\u001b[39m\u001b[39m.\u001b[39m_setitem_array([key], value)\n\u001b[0;32m   4092\u001b[0m \u001b[39melse\u001b[39;00m:\n\u001b[0;32m   4093\u001b[0m     \u001b[39m# set column\u001b[39;00m\n\u001b[1;32m-> 4094\u001b[0m     \u001b[39mself\u001b[39;49m\u001b[39m.\u001b[39;49m_set_item(key, value)\n",
      "File \u001b[1;32mc:\\Users\\rayli\\AppData\\Local\\Programs\\Python\\Python311\\Lib\\site-packages\\pandas\\core\\frame.py:4303\u001b[0m, in \u001b[0;36mDataFrame._set_item\u001b[1;34m(self, key, value)\u001b[0m\n\u001b[0;32m   4293\u001b[0m \u001b[39mdef\u001b[39;00m \u001b[39m_set_item\u001b[39m(\u001b[39mself\u001b[39m, key, value) \u001b[39m-\u001b[39m\u001b[39m>\u001b[39m \u001b[39mNone\u001b[39;00m:\n\u001b[0;32m   4294\u001b[0m \u001b[39m    \u001b[39m\u001b[39m\"\"\"\u001b[39;00m\n\u001b[0;32m   4295\u001b[0m \u001b[39m    Add series to DataFrame in specified column.\u001b[39;00m\n\u001b[0;32m   4296\u001b[0m \n\u001b[1;32m   (...)\u001b[0m\n\u001b[0;32m   4301\u001b[0m \u001b[39m    ensure homogeneity.\u001b[39;00m\n\u001b[0;32m   4302\u001b[0m \u001b[39m    \"\"\"\u001b[39;00m\n\u001b[1;32m-> 4303\u001b[0m     value, refs \u001b[39m=\u001b[39m \u001b[39mself\u001b[39;49m\u001b[39m.\u001b[39;49m_sanitize_column(value)\n\u001b[0;32m   4305\u001b[0m     \u001b[39mif\u001b[39;00m (\n\u001b[0;32m   4306\u001b[0m         key \u001b[39min\u001b[39;00m \u001b[39mself\u001b[39m\u001b[39m.\u001b[39mcolumns\n\u001b[0;32m   4307\u001b[0m         \u001b[39mand\u001b[39;00m value\u001b[39m.\u001b[39mndim \u001b[39m==\u001b[39m \u001b[39m1\u001b[39m\n\u001b[0;32m   4308\u001b[0m         \u001b[39mand\u001b[39;00m \u001b[39mnot\u001b[39;00m \u001b[39misinstance\u001b[39m(value\u001b[39m.\u001b[39mdtype, ExtensionDtype)\n\u001b[0;32m   4309\u001b[0m     ):\n\u001b[0;32m   4310\u001b[0m         \u001b[39m# broadcast across multiple columns if necessary\u001b[39;00m\n\u001b[0;32m   4311\u001b[0m         \u001b[39mif\u001b[39;00m \u001b[39mnot\u001b[39;00m \u001b[39mself\u001b[39m\u001b[39m.\u001b[39mcolumns\u001b[39m.\u001b[39mis_unique \u001b[39mor\u001b[39;00m \u001b[39misinstance\u001b[39m(\u001b[39mself\u001b[39m\u001b[39m.\u001b[39mcolumns, MultiIndex):\n",
      "File \u001b[1;32mc:\\Users\\rayli\\AppData\\Local\\Programs\\Python\\Python311\\Lib\\site-packages\\pandas\\core\\frame.py:5042\u001b[0m, in \u001b[0;36mDataFrame._sanitize_column\u001b[1;34m(self, value)\u001b[0m\n\u001b[0;32m   5039\u001b[0m     \u001b[39mreturn\u001b[39;00m _reindex_for_setitem(value, \u001b[39mself\u001b[39m\u001b[39m.\u001b[39mindex)\n\u001b[0;32m   5041\u001b[0m \u001b[39mif\u001b[39;00m is_list_like(value):\n\u001b[1;32m-> 5042\u001b[0m     com\u001b[39m.\u001b[39;49mrequire_length_match(value, \u001b[39mself\u001b[39;49m\u001b[39m.\u001b[39;49mindex)\n\u001b[0;32m   5043\u001b[0m \u001b[39mreturn\u001b[39;00m sanitize_array(value, \u001b[39mself\u001b[39m\u001b[39m.\u001b[39mindex, copy\u001b[39m=\u001b[39m\u001b[39mTrue\u001b[39;00m, allow_2d\u001b[39m=\u001b[39m\u001b[39mTrue\u001b[39;00m), \u001b[39mNone\u001b[39;00m\n",
      "File \u001b[1;32mc:\\Users\\rayli\\AppData\\Local\\Programs\\Python\\Python311\\Lib\\site-packages\\pandas\\core\\common.py:561\u001b[0m, in \u001b[0;36mrequire_length_match\u001b[1;34m(data, index)\u001b[0m\n\u001b[0;32m    557\u001b[0m \u001b[39m\u001b[39m\u001b[39m\"\"\"\u001b[39;00m\n\u001b[0;32m    558\u001b[0m \u001b[39mCheck the length of data matches the length of the index.\u001b[39;00m\n\u001b[0;32m    559\u001b[0m \u001b[39m\"\"\"\u001b[39;00m\n\u001b[0;32m    560\u001b[0m \u001b[39mif\u001b[39;00m \u001b[39mlen\u001b[39m(data) \u001b[39m!=\u001b[39m \u001b[39mlen\u001b[39m(index):\n\u001b[1;32m--> 561\u001b[0m     \u001b[39mraise\u001b[39;00m \u001b[39mValueError\u001b[39;00m(\n\u001b[0;32m    562\u001b[0m         \u001b[39m\"\u001b[39m\u001b[39mLength of values \u001b[39m\u001b[39m\"\u001b[39m\n\u001b[0;32m    563\u001b[0m         \u001b[39mf\u001b[39m\u001b[39m\"\u001b[39m\u001b[39m(\u001b[39m\u001b[39m{\u001b[39;00m\u001b[39mlen\u001b[39m(data)\u001b[39m}\u001b[39;00m\u001b[39m) \u001b[39m\u001b[39m\"\u001b[39m\n\u001b[0;32m    564\u001b[0m         \u001b[39m\"\u001b[39m\u001b[39mdoes not match length of index \u001b[39m\u001b[39m\"\u001b[39m\n\u001b[0;32m    565\u001b[0m         \u001b[39mf\u001b[39m\u001b[39m\"\u001b[39m\u001b[39m(\u001b[39m\u001b[39m{\u001b[39;00m\u001b[39mlen\u001b[39m(index)\u001b[39m}\u001b[39;00m\u001b[39m)\u001b[39m\u001b[39m\"\u001b[39m\n\u001b[0;32m    566\u001b[0m     )\n",
      "\u001b[1;31mValueError\u001b[0m: Length of values (17) does not match length of index (31)"
     ]
    }
   ],
   "source": [
    "data_test = {\n",
    "    'Student': ['A', 'B', 'C', 'D', 'E', 'F', 'G', 'H', 'I', 'J', 'K', 'L', 'M', 'N', 'O', 'P', 'Q', 'R', 'S', 'T', 'U', 'V', 'W', 'X', 'Y', 'Z', 'AA', 'AB', 'AC', 'AD', 'AE'],\n",
    "    'Status': ['Undergrad_CS', 'Undergrad_Math', 'Auditor', 'Undergrad_O', 'Grad', 'Auditor', 'Undergrad_CS', 'Undergrad_Math', 'Grad', 'Undergrad_O', 'Grad', 'Grad', 'Grad', 'Grad', 'Auditor', 'Auditor', 'Undergrad_CS', 'Undergrad_Math', 'Undergrad_O', 'Auditor', 'Grad', 'Undergrad_O', 'Undergrad_CS', 'Undergrad_Math', 'Auditor', 'Grad', 'Undergrad_O', 'Undergrad_O', 'Grad', 'Undergrad_CS', 'Undergrad_Math'],\n",
    "    'Day completed': [4, 2, 3, 5, 1, 3, 5, 1, 4, 2, 5, 1, 4, 2, 3, 2, 4, 5, 1, 3, 2, 4, 1, 5, 3, 5, 2, 4, 1, 3, 5]\n",
    "}\n",
    "\n",
    "data_frame_project = pd.DataFrame(data_test)\n",
    "\n",
    "# print(data_frame_project) # checking to see as what returns as I go.\n",
    "\n",
    "assigned_weights = []\n",
    "for _, group in data_frame_project.groupby(['Status']):\n",
    "    if group['Status'].iloc[0].startswith('Grad'):\n",
    "        assigned_weights.append([9999]*len(group))\n",
    "    elif group['Status'].iloc[0].startswith('Undergrad'):\n",
    "        group = group.sort_values(by='Day completed')\n",
    "        assigned_weights.extend([1/ (i +1)] for i in range(len(group)))\n",
    "\n",
    "data_frame_project['Weight'] = assigned_weights\n",
    "\n",
    "print(data_frame_project)\n"
   ]
  },
  {
   "cell_type": "code",
   "execution_count": 16,
   "metadata": {},
   "outputs": [
    {
     "ename": "ValueError",
     "evalue": "Length of values (25) does not match length of index (31)",
     "output_type": "error",
     "traceback": [
      "\u001b[1;31m---------------------------------------------------------------------------\u001b[0m",
      "\u001b[1;31mValueError\u001b[0m                                Traceback (most recent call last)",
      "\u001b[1;32mc:\\Users\\rayli\\Desktop\\Algorithms\\Project1\\project.ipynb Cell 4\u001b[0m line \u001b[0;36m1\n\u001b[0;32m     <a href='vscode-notebook-cell:/c%3A/Users/rayli/Desktop/Algorithms/Project1/project.ipynb#W4sZmlsZQ%3D%3D?line=15'>16</a>\u001b[0m         group \u001b[39m=\u001b[39m group\u001b[39m.\u001b[39msort_values(by\u001b[39m=\u001b[39m\u001b[39m'\u001b[39m\u001b[39mDay completed\u001b[39m\u001b[39m'\u001b[39m)\n\u001b[0;32m     <a href='vscode-notebook-cell:/c%3A/Users/rayli/Desktop/Algorithms/Project1/project.ipynb#W4sZmlsZQ%3D%3D?line=16'>17</a>\u001b[0m         assigned_weights\u001b[39m.\u001b[39mextend([\u001b[39m1\u001b[39m \u001b[39m/\u001b[39m (i \u001b[39m+\u001b[39m \u001b[39m1\u001b[39m) \u001b[39mfor\u001b[39;00m i \u001b[39min\u001b[39;00m \u001b[39mrange\u001b[39m(\u001b[39mlen\u001b[39m(group))])\n\u001b[1;32m---> <a href='vscode-notebook-cell:/c%3A/Users/rayli/Desktop/Algorithms/Project1/project.ipynb#W4sZmlsZQ%3D%3D?line=18'>19</a>\u001b[0m data_frame_project[\u001b[39m'\u001b[39;49m\u001b[39mWeight\u001b[39;49m\u001b[39m'\u001b[39;49m] \u001b[39m=\u001b[39m assigned_weights\n\u001b[0;32m     <a href='vscode-notebook-cell:/c%3A/Users/rayli/Desktop/Algorithms/Project1/project.ipynb#W4sZmlsZQ%3D%3D?line=20'>21</a>\u001b[0m \u001b[39mprint\u001b[39m(data_frame_project)\n",
      "File \u001b[1;32mc:\\Users\\rayli\\AppData\\Local\\Programs\\Python\\Python311\\Lib\\site-packages\\pandas\\core\\frame.py:4094\u001b[0m, in \u001b[0;36mDataFrame.__setitem__\u001b[1;34m(self, key, value)\u001b[0m\n\u001b[0;32m   4091\u001b[0m     \u001b[39mself\u001b[39m\u001b[39m.\u001b[39m_setitem_array([key], value)\n\u001b[0;32m   4092\u001b[0m \u001b[39melse\u001b[39;00m:\n\u001b[0;32m   4093\u001b[0m     \u001b[39m# set column\u001b[39;00m\n\u001b[1;32m-> 4094\u001b[0m     \u001b[39mself\u001b[39;49m\u001b[39m.\u001b[39;49m_set_item(key, value)\n",
      "File \u001b[1;32mc:\\Users\\rayli\\AppData\\Local\\Programs\\Python\\Python311\\Lib\\site-packages\\pandas\\core\\frame.py:4303\u001b[0m, in \u001b[0;36mDataFrame._set_item\u001b[1;34m(self, key, value)\u001b[0m\n\u001b[0;32m   4293\u001b[0m \u001b[39mdef\u001b[39;00m \u001b[39m_set_item\u001b[39m(\u001b[39mself\u001b[39m, key, value) \u001b[39m-\u001b[39m\u001b[39m>\u001b[39m \u001b[39mNone\u001b[39;00m:\n\u001b[0;32m   4294\u001b[0m \u001b[39m    \u001b[39m\u001b[39m\"\"\"\u001b[39;00m\n\u001b[0;32m   4295\u001b[0m \u001b[39m    Add series to DataFrame in specified column.\u001b[39;00m\n\u001b[0;32m   4296\u001b[0m \n\u001b[1;32m   (...)\u001b[0m\n\u001b[0;32m   4301\u001b[0m \u001b[39m    ensure homogeneity.\u001b[39;00m\n\u001b[0;32m   4302\u001b[0m \u001b[39m    \"\"\"\u001b[39;00m\n\u001b[1;32m-> 4303\u001b[0m     value, refs \u001b[39m=\u001b[39m \u001b[39mself\u001b[39;49m\u001b[39m.\u001b[39;49m_sanitize_column(value)\n\u001b[0;32m   4305\u001b[0m     \u001b[39mif\u001b[39;00m (\n\u001b[0;32m   4306\u001b[0m         key \u001b[39min\u001b[39;00m \u001b[39mself\u001b[39m\u001b[39m.\u001b[39mcolumns\n\u001b[0;32m   4307\u001b[0m         \u001b[39mand\u001b[39;00m value\u001b[39m.\u001b[39mndim \u001b[39m==\u001b[39m \u001b[39m1\u001b[39m\n\u001b[0;32m   4308\u001b[0m         \u001b[39mand\u001b[39;00m \u001b[39mnot\u001b[39;00m \u001b[39misinstance\u001b[39m(value\u001b[39m.\u001b[39mdtype, ExtensionDtype)\n\u001b[0;32m   4309\u001b[0m     ):\n\u001b[0;32m   4310\u001b[0m         \u001b[39m# broadcast across multiple columns if necessary\u001b[39;00m\n\u001b[0;32m   4311\u001b[0m         \u001b[39mif\u001b[39;00m \u001b[39mnot\u001b[39;00m \u001b[39mself\u001b[39m\u001b[39m.\u001b[39mcolumns\u001b[39m.\u001b[39mis_unique \u001b[39mor\u001b[39;00m \u001b[39misinstance\u001b[39m(\u001b[39mself\u001b[39m\u001b[39m.\u001b[39mcolumns, MultiIndex):\n",
      "File \u001b[1;32mc:\\Users\\rayli\\AppData\\Local\\Programs\\Python\\Python311\\Lib\\site-packages\\pandas\\core\\frame.py:5042\u001b[0m, in \u001b[0;36mDataFrame._sanitize_column\u001b[1;34m(self, value)\u001b[0m\n\u001b[0;32m   5039\u001b[0m     \u001b[39mreturn\u001b[39;00m _reindex_for_setitem(value, \u001b[39mself\u001b[39m\u001b[39m.\u001b[39mindex)\n\u001b[0;32m   5041\u001b[0m \u001b[39mif\u001b[39;00m is_list_like(value):\n\u001b[1;32m-> 5042\u001b[0m     com\u001b[39m.\u001b[39;49mrequire_length_match(value, \u001b[39mself\u001b[39;49m\u001b[39m.\u001b[39;49mindex)\n\u001b[0;32m   5043\u001b[0m \u001b[39mreturn\u001b[39;00m sanitize_array(value, \u001b[39mself\u001b[39m\u001b[39m.\u001b[39mindex, copy\u001b[39m=\u001b[39m\u001b[39mTrue\u001b[39;00m, allow_2d\u001b[39m=\u001b[39m\u001b[39mTrue\u001b[39;00m), \u001b[39mNone\u001b[39;00m\n",
      "File \u001b[1;32mc:\\Users\\rayli\\AppData\\Local\\Programs\\Python\\Python311\\Lib\\site-packages\\pandas\\core\\common.py:561\u001b[0m, in \u001b[0;36mrequire_length_match\u001b[1;34m(data, index)\u001b[0m\n\u001b[0;32m    557\u001b[0m \u001b[39m\u001b[39m\u001b[39m\"\"\"\u001b[39;00m\n\u001b[0;32m    558\u001b[0m \u001b[39mCheck the length of data matches the length of the index.\u001b[39;00m\n\u001b[0;32m    559\u001b[0m \u001b[39m\"\"\"\u001b[39;00m\n\u001b[0;32m    560\u001b[0m \u001b[39mif\u001b[39;00m \u001b[39mlen\u001b[39m(data) \u001b[39m!=\u001b[39m \u001b[39mlen\u001b[39m(index):\n\u001b[1;32m--> 561\u001b[0m     \u001b[39mraise\u001b[39;00m \u001b[39mValueError\u001b[39;00m(\n\u001b[0;32m    562\u001b[0m         \u001b[39m\"\u001b[39m\u001b[39mLength of values \u001b[39m\u001b[39m\"\u001b[39m\n\u001b[0;32m    563\u001b[0m         \u001b[39mf\u001b[39m\u001b[39m\"\u001b[39m\u001b[39m(\u001b[39m\u001b[39m{\u001b[39;00m\u001b[39mlen\u001b[39m(data)\u001b[39m}\u001b[39;00m\u001b[39m) \u001b[39m\u001b[39m\"\u001b[39m\n\u001b[0;32m    564\u001b[0m         \u001b[39m\"\u001b[39m\u001b[39mdoes not match length of index \u001b[39m\u001b[39m\"\u001b[39m\n\u001b[0;32m    565\u001b[0m         \u001b[39mf\u001b[39m\u001b[39m\"\u001b[39m\u001b[39m(\u001b[39m\u001b[39m{\u001b[39;00m\u001b[39mlen\u001b[39m(index)\u001b[39m}\u001b[39;00m\u001b[39m)\u001b[39m\u001b[39m\"\u001b[39m\n\u001b[0;32m    566\u001b[0m     )\n",
      "\u001b[1;31mValueError\u001b[0m: Length of values (25) does not match length of index (31)"
     ]
    }
   ],
   "source": [
    "import pandas as pd\n",
    "\n",
    "data_test = {\n",
    "    'Student': ['A', 'B', 'C', 'D', 'E', 'F', 'G', 'H', 'I', 'J', 'K', 'L', 'M', 'N', 'O', 'P', 'Q', 'R', 'S', 'T', 'U', 'V', 'W', 'X', 'Y', 'Z', 'AA', 'AB', 'AC', 'AD', 'AE'],\n",
    "    'Status': ['Undergrad_CS', 'Undergrad_Math', 'Auditor', 'Undergrad_O', 'Grad', 'Auditor', 'Undergrad_CS', 'Undergrad_Math', 'Grad', 'Undergrad_O', 'Grad', 'Grad', 'Grad', 'Grad', 'Auditor', 'Auditor', 'Undergrad_CS', 'Undergrad_Math', 'Undergrad_O', 'Auditor', 'Grad', 'Undergrad_O', 'Undergrad_CS', 'Undergrad_Math', 'Auditor', 'Grad', 'Undergrad_O', 'Undergrad_O', 'Grad', 'Undergrad_CS', 'Undergrad_Math'],\n",
    "    'Day completed': [4, 2, 3, 5, 1, 3, 5, 1, 4, 2, 5, 1, 4, 2, 3, 2, 4, 5, 1, 3, 2, 4, 1, 5, 3, 5, 2, 4, 1, 3, 5]\n",
    "}\n",
    "\n",
    "data_frame_project = pd.DataFrame(data_test)\n",
    "\n",
    "assigned_weights = []\n",
    "for _, group in data_frame_project.groupby(['Status']):\n",
    "    if group['Status'].iloc[0].startswith('Grad'):\n",
    "        assigned_weights.extend([9999] * len(group))\n",
    "    elif group['Status'].iloc[0].startswith('Undergrad'):\n",
    "        group = group.sort_values(by='Day completed')\n",
    "        assigned_weights.extend([1 / (i + 1) for i in range(len(group))])\n",
    "\n",
    "data_frame_project['Weight'] = assigned_weights\n",
    "\n",
    "print(data_frame_project)\n"
   ]
  },
  {
   "cell_type": "code",
   "execution_count": 17,
   "metadata": {},
   "outputs": [
    {
     "name": "stdout",
     "output_type": "stream",
     "text": [
      "   Student          Status  Day completed       Weight\n",
      "0        A    Undergrad_CS              4  9999.000000\n",
      "1        B  Undergrad_Math              2  9999.000000\n",
      "2        C         Auditor              3  9999.000000\n",
      "3        D     Undergrad_O              5  9999.000000\n",
      "4        E            Grad              1  9999.000000\n",
      "5        F         Auditor              3  9999.000000\n",
      "6        G    Undergrad_CS              5  9999.000000\n",
      "7        H  Undergrad_Math              1  9999.000000\n",
      "8        I            Grad              4  9999.000000\n",
      "9        J     Undergrad_O              2     1.000000\n",
      "10       K            Grad              5     0.500000\n",
      "11       L            Grad              1     0.333333\n",
      "12       M            Grad              4     0.250000\n",
      "13       N            Grad              2     0.200000\n",
      "14       O         Auditor              3     1.000000\n",
      "15       P         Auditor              2     0.500000\n",
      "16       Q    Undergrad_CS              4     0.333333\n",
      "17       R  Undergrad_Math              5     0.250000\n",
      "18       S     Undergrad_O              1     0.200000\n",
      "19       T         Auditor              3     1.000000\n",
      "20       U            Grad              2     0.500000\n",
      "21       V     Undergrad_O              4     0.333333\n",
      "22       W    Undergrad_CS              1     0.250000\n",
      "23       X  Undergrad_Math              5     0.200000\n",
      "24       Y         Auditor              3     0.166667\n",
      "25       Z            Grad              5          NaN\n",
      "26      AA     Undergrad_O              2          NaN\n",
      "27      AB     Undergrad_O              4          NaN\n",
      "28      AC            Grad              1          NaN\n",
      "29      AD    Undergrad_CS              3          NaN\n",
      "30      AE  Undergrad_Math              5          NaN\n"
     ]
    }
   ],
   "source": [
    "import pandas as pd\n",
    "\n",
    "data_test = {\n",
    "    'Student': ['A', 'B', 'C', 'D', 'E', 'F', 'G', 'H', 'I', 'J', 'K', 'L', 'M', 'N', 'O', 'P', 'Q', 'R', 'S', 'T', 'U', 'V', 'W', 'X', 'Y', 'Z', 'AA', 'AB', 'AC', 'AD', 'AE'],\n",
    "    'Status': ['Undergrad_CS', 'Undergrad_Math', 'Auditor', 'Undergrad_O', 'Grad', 'Auditor', 'Undergrad_CS', 'Undergrad_Math', 'Grad', 'Undergrad_O', 'Grad', 'Grad', 'Grad', 'Grad', 'Auditor', 'Auditor', 'Undergrad_CS', 'Undergrad_Math', 'Undergrad_O', 'Auditor', 'Grad', 'Undergrad_O', 'Undergrad_CS', 'Undergrad_Math', 'Auditor', 'Grad', 'Undergrad_O', 'Undergrad_O', 'Grad', 'Undergrad_CS', 'Undergrad_Math'],\n",
    "    'Day completed': [4, 2, 3, 5, 1, 3, 5, 1, 4, 2, 5, 1, 4, 2, 3, 2, 4, 5, 1, 3, 2, 4, 1, 5, 3, 5, 2, 4, 1, 3, 5]\n",
    "}\n",
    "\n",
    "data_frame_project = pd.DataFrame(data_test)\n",
    "\n",
    "assigned_weights = []\n",
    "for _, group in data_frame_project.groupby(['Status']):\n",
    "    if group['Status'].iloc[0].startswith('Grad'):\n",
    "        assigned_weights.extend([9999] * len(group))\n",
    "    elif group['Status'].iloc[0].startswith('Undergrad'):\n",
    "        group = group.sort_values(by='Day completed')\n",
    "        assigned_weights.extend([1 / (i + 1) for i in range(len(group))])\n",
    "\n",
    "# making sure to match the length of the original DataFrame\n",
    "assigned_weights.extend([None] * (len(data_frame_project) - len(assigned_weights)))\n",
    "\n",
    "data_frame_project['Weight'] = assigned_weights\n",
    "\n",
    "print(data_frame_project)\n"
   ]
  }
 ],
 "metadata": {
  "kernelspec": {
   "display_name": "Python 3",
   "language": "python",
   "name": "python3"
  },
  "language_info": {
   "codemirror_mode": {
    "name": "ipython",
    "version": 3
   },
   "file_extension": ".py",
   "mimetype": "text/x-python",
   "name": "python",
   "nbconvert_exporter": "python",
   "pygments_lexer": "ipython3",
   "version": "3.11.5"
  }
 },
 "nbformat": 4,
 "nbformat_minor": 2
}
