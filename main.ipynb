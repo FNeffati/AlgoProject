{
 "cells": [
  {
   "cell_type": "markdown",
   "source": [
    "# Group Project \n",
    "\n",
    "This File will have the main algorithms for the project and it will also have the test cases and all related explanations\n",
    "\n",
    "### Authors: Raymond Bidini, Sujit Sivadanam, Fehmi Neffati "
   ],
   "metadata": {
    "collapsed": false
   },
   "id": "84948f45c0557065"
  },
  {
   "cell_type": "code",
   "execution_count": 276,
   "outputs": [],
   "source": [
    "import random"
   ],
   "metadata": {
    "collapsed": false,
    "ExecuteTime": {
     "end_time": "2023-10-22T16:25:47.957821Z",
     "start_time": "2023-10-22T16:25:47.930520Z"
    }
   },
   "id": "88bdb45e99cf7a1c"
  },
  {
   "cell_type": "code",
   "execution_count": 277,
   "outputs": [
    {
     "name": "stdout",
     "output_type": "stream",
     "text": [
      "INPUT ARRAY:  [4, 2, 13, 1, 3, 23, 5]\n",
      "OUTPUT ARRAY: [13, 2, 23, 1, 3, 4, 5]\n",
      "---------------------------------\n",
      "Got it right:\n",
      "INPUT ARRAY:  [10, 5, 3, 4, 1]\n",
      "OUTPUT ARRAY: [10, 5, 3, 4, 1]\n"
     ]
    }
   ],
   "source": [
    "def max_heapify(input_array, current_root_index):\n",
    "    \n",
    "    left_index = 2*current_root_index + 1\n",
    "    right_index = 2*current_root_index + 2\n",
    "    if left_index <= len(input_array) and input_array[left_index] > input_array[current_root_index]:\n",
    "        largest_item_index = left_index\n",
    "    else:\n",
    "        largest_item_index = current_root_index\n",
    "    \n",
    "    if right_index <= len(input_array) and input_array[right_index] > input_array[largest_item_index]:\n",
    "        largest_item_index = right_index\n",
    "    \n",
    "    if largest_item_index != current_root_index:\n",
    "        temp = input_array[current_root_index]\n",
    "        \n",
    "        input_array[current_root_index] = input_array[largest_item_index]\n",
    "        input_array[largest_item_index] = temp\n",
    "        \n",
    "        max_heapify(input_array, largest_item_index)\n",
    "    \n",
    "    return input_array\n",
    "\n",
    "example_array = [4, 2, 13, 1, 3, 23, 5]\n",
    "print(\"INPUT ARRAY: \", example_array)\n",
    "print(\"OUTPUT ARRAY:\", max_heapify(example_array, 0))\n",
    "\n",
    "print(\"---------------------------------\")\n",
    "def test_max_heapify():\n",
    "    input_array = [4, 10, 3, 5, 1]\n",
    "    expected_result = [10, 5, 3, 4, 1]\n",
    "\n",
    "    result = max_heapify(input_array, 0)\n",
    "    \n",
    "    if result == expected_result:\n",
    "        print(\"Got it right:\")\n",
    "        print(\"INPUT ARRAY: \", input_array)\n",
    "        print(\"OUTPUT ARRAY:\", result)\n",
    "    else: \n",
    "        print(f\"Expected {expected_result}, but got {result}\")\n",
    "\n",
    "test_max_heapify()"
   ],
   "metadata": {
    "collapsed": false,
    "ExecuteTime": {
     "end_time": "2023-10-22T16:25:47.962262Z",
     "start_time": "2023-10-22T16:25:47.940300Z"
    }
   },
   "id": "e6fbbf8600afb823"
  },
  {
   "cell_type": "code",
   "execution_count": 278,
   "outputs": [],
   "source": [
    "High_Ed_Level = {\n",
    "\t\"Grad\": 99999,\n",
    "\t\"Undergrad\": 1\n",
    "}\n",
    "\n",
    "Undergrad_Level = {\n",
    "\t\"Senior\": 4, \n",
    "\t\"Junior\": 3,\n",
    "\t\"Sophomore\": 2,\n",
    "\t\"Freshman\": 1\n",
    "} \n",
    "\n",
    "AOC = {\n",
    "\t\"CS/Math\": 10,\n",
    "\t\"ELSE\": 1\n",
    "\t}\n",
    "\n",
    "Day = {\n",
    "\t1: 5,\n",
    "\t2: 4,\n",
    "\t3: 3,\n",
    "\t4: 2,\n",
    "\t5: 1\n",
    "}"
   ],
   "metadata": {
    "collapsed": false,
    "ExecuteTime": {
     "end_time": "2023-10-22T16:25:47.962356Z",
     "start_time": "2023-10-22T16:25:47.947617Z"
    }
   },
   "id": "a8c97d22b7fde195"
  },
  {
   "cell_type": "code",
   "execution_count": 279,
   "outputs": [
    {
     "name": "stdout",
     "output_type": "stream",
     "text": [
      "99999\n",
      "4\n",
      "40\n",
      "True\n"
     ]
    }
   ],
   "source": [
    "# Test\n",
    "print(High_Ed_Level[\"Grad\"])\n",
    "print(Undergrad_Level[\"Senior\"])\n",
    "print(Undergrad_Level[\"Senior\"] * AOC[\"CS/Math\"])\n",
    "print(Undergrad_Level[\"Senior\"] * AOC[\"CS/Math\"] > Undergrad_Level[\"Junior\"] * AOC[\"CS/Math\"])"
   ],
   "metadata": {
    "collapsed": false,
    "ExecuteTime": {
     "end_time": "2023-10-22T16:25:47.962945Z",
     "start_time": "2023-10-22T16:25:47.951381Z"
    }
   },
   "id": "c30dc27ac2fb36ef"
  },
  {
   "cell_type": "code",
   "execution_count": 280,
   "outputs": [
    {
     "name": "stdout",
     "output_type": "stream",
     "text": [
      "Senior, CS/Math, 3.03\n",
      "Grad\n",
      "Grad\n",
      "Junior, CS/Math, 2.11\n",
      "Senior, CS/Math, 1.05\n",
      "Grad\n",
      "Grad\n",
      "Grad\n",
      "Grad\n",
      "Grad\n",
      "Grad\n",
      "Grad\n",
      "Grad\n",
      "Grad\n",
      "Junior, ELSE, 5.1\n",
      "Junior, ELSE, 5.12\n",
      "Sophomore, CS/Math, 3.0\n",
      "Sophomore, ELSE, 5.06\n",
      "Grad\n",
      "Sophomore, CS/Math, 1.14\n",
      "Grad\n",
      "Sophomore, ELSE, 3.13\n",
      "Freshman, ELSE, 4.08\n",
      "Senior, CS/Math, 4.01\n",
      "Sophomore, ELSE, 4.09\n",
      "Grad\n",
      "Junior, CS/Math, 2.07\n",
      "Junior, ELSE, 2.04\n",
      "Freshman, CS/Math, 4.02\n",
      "Grad\n"
     ]
    }
   ],
   "source": [
    "\"\"\"\n",
    "Take a list of each dictionary \n",
    "Make a list of 20 randomly shuffled elements\n",
    "Now from each list take 1, and combine \n",
    "\n",
    "\"\"\"\n",
    "# each number we multiplied by will help get the length of each list to the least common multiple (to avoid indexing issues later) \n",
    "undergrad_keys = list(Undergrad_Level.keys()) * 5 \n",
    "aoc_keys = list(AOC.keys()) * 10\n",
    "day_keys = [str(k) for k in Day.keys()] * 4\n",
    "\n",
    "# Shuffle each list\n",
    "random.shuffle(undergrad_keys)\n",
    "random.shuffle(aoc_keys)\n",
    "random.shuffle(day_keys)\n",
    "\n",
    "# Combine the randomized items\n",
    "combined_list = []\n",
    "for i in range(15):\n",
    "    combined_item = \", \".join([undergrad_keys[i], aoc_keys[i], str(int(day_keys[i]) + (i*0.01))[:4]])\n",
    "    combined_list.append(combined_item)\n",
    "\n",
    "# Toss in a couple of grad students in there: \n",
    "\n",
    "grad = [\"Grad\"] * 15\n",
    "\n",
    "combined_list += grad\n",
    "random.shuffle(combined_list)    \n",
    "\n",
    "for item in combined_list:\n",
    "    print(item)"
   ],
   "metadata": {
    "collapsed": false,
    "ExecuteTime": {
     "end_time": "2023-10-22T16:25:47.963004Z",
     "start_time": "2023-10-22T16:25:47.957385Z"
    }
   },
   "id": "90822adaf28ebcba"
  },
  {
   "cell_type": "code",
   "execution_count": 281,
   "outputs": [
    {
     "name": "stdout",
     "output_type": "stream",
     "text": [
      "Weight for example student Junior, CS/Math, 4.01 :\n",
      "32.01\n"
     ]
    }
   ],
   "source": [
    "def weight_calculator(student):\n",
    "    if student == \"Grad\":\n",
    "        High_Ed_Level[\"Grad\"] = High_Ed_Level[\"Grad\"] - 1\n",
    "        return High_Ed_Level[\"Grad\"]\n",
    "    \n",
    "    feats = student.replace(\" \", \"\").split(',')\n",
    "    \n",
    "    year = feats[0]\n",
    "    aoc = feats[1]\n",
    "    day = feats[2]\n",
    "    \n",
    "    weight = Undergrad_Level[year] * AOC[aoc] + Day[int(day[0])] + float(day[1:]) \n",
    "    return weight\n",
    "    \n",
    "    \n",
    "example_student = 'Junior, CS/Math, 4.01'\n",
    "print(\"Weight for example student\", example_student, \":\")\n",
    "print(weight_calculator(example_student))\n",
    "    "
   ],
   "metadata": {
    "collapsed": false,
    "ExecuteTime": {
     "end_time": "2023-10-22T16:25:47.980276Z",
     "start_time": "2023-10-22T16:25:47.961951Z"
    }
   },
   "id": "5fd955128bc102e5"
  },
  {
   "cell_type": "code",
   "execution_count": 282,
   "outputs": [],
   "source": [
    "student_list = combined_list"
   ],
   "metadata": {
    "collapsed": false,
    "ExecuteTime": {
     "end_time": "2023-10-22T16:25:47.980386Z",
     "start_time": "2023-10-22T16:25:47.965665Z"
    }
   },
   "id": "2c9a4193461444c6"
  },
  {
   "cell_type": "code",
   "execution_count": 283,
   "outputs": [
    {
     "name": "stdout",
     "output_type": "stream",
     "text": [
      "INPUT LIST\n",
      "['Senior, CS/Math, 3.03', 'Grad', 'Grad', 'Junior, CS/Math, 2.11', 'Senior, CS/Math, 1.05', 'Grad', 'Grad', 'Grad', 'Grad', 'Grad', 'Grad', 'Grad', 'Grad', 'Grad', 'Junior, ELSE, 5.1', 'Junior, ELSE, 5.12', 'Sophomore, CS/Math, 3.0', 'Sophomore, ELSE, 5.06', 'Grad', 'Sophomore, CS/Math, 1.14', 'Grad', 'Sophomore, ELSE, 3.13', 'Freshman, ELSE, 4.08', 'Senior, CS/Math, 4.01', 'Sophomore, ELSE, 4.09', 'Grad', 'Junior, CS/Math, 2.07', 'Junior, ELSE, 2.04', 'Freshman, CS/Math, 4.02', 'Grad']\n",
      "\n",
      "RESULT: \n",
      "['Grad', 'Grad', 'Grad', 'Junior, CS/Math, 2.11', 'Senior, CS/Math, 1.05', 'Grad', 'Grad', 'Grad', 'Grad', 'Grad', 'Grad', 'Grad', 'Grad', 'Senior, CS/Math, 3.03', 'Junior, ELSE, 5.1', 'Junior, ELSE, 5.12', 'Sophomore, CS/Math, 3.0', 'Sophomore, ELSE, 5.06', 'Grad', 'Sophomore, CS/Math, 1.14', 'Grad', 'Sophomore, ELSE, 3.13', 'Freshman, ELSE, 4.08', 'Senior, CS/Math, 4.01', 'Sophomore, ELSE, 4.09', 'Grad', 'Junior, CS/Math, 2.07', 'Junior, ELSE, 2.04', 'Freshman, CS/Math, 4.02', 'Grad']\n"
     ]
    }
   ],
   "source": [
    "tester = student_list\n",
    "print(\"INPUT LIST\")\n",
    "print(tester)\n",
    "\n",
    "def max_heapify(input_array, current_root_index):\n",
    "    left_index = 2 * current_root_index + 1\n",
    "    right_index = 2 * current_root_index + 2\n",
    "\n",
    "    current_weight = weight_calculator(input_array[current_root_index])\n",
    "    left_weight = weight_calculator(input_array[left_index]) if left_index < len(input_array) else 0\n",
    "    right_weight = weight_calculator(input_array[right_index]) if right_index < len(input_array) else 0\n",
    "\n",
    "    largest_item_index = current_root_index\n",
    "\n",
    "    if left_index < len(input_array) and left_weight >= current_weight:\n",
    "        largest_item_index = left_index\n",
    "\n",
    "    if right_index < len(input_array) and right_weight >= weight_calculator(input_array[largest_item_index]):\n",
    "        largest_item_index = right_index\n",
    "\n",
    "    if largest_item_index != current_root_index:\n",
    "        temp = input_array[current_root_index]\n",
    "        input_array[current_root_index] = input_array[largest_item_index]\n",
    "        input_array[largest_item_index] = temp\n",
    "        max_heapify(input_array, largest_item_index)\n",
    "    # Tweak to avoid edge case \n",
    "    else: \n",
    "        if left_index < len(input_array): \n",
    "            max_heapify(input_array, left_index)\n",
    "        if right_index < len(input_array):\n",
    "            max_heapify(input_array, right_index)\n",
    "\n",
    "    return input_array\n",
    "\n",
    "result = max_heapify(tester, 0)\n",
    "print()\n",
    "print(\"RESULT: \")\n",
    "print(result)\n"
   ],
   "metadata": {
    "collapsed": false,
    "ExecuteTime": {
     "end_time": "2023-10-22T16:25:47.980670Z",
     "start_time": "2023-10-22T16:25:47.968767Z"
    }
   },
   "id": "15cd3a8e21abd2b6"
  },
  {
   "cell_type": "code",
   "execution_count": 284,
   "outputs": [
    {
     "name": "stdout",
     "output_type": "stream",
     "text": [
      "['Grad', 'Grad', 'Grad', 'Junior, CS/Math, 2.11', 'Senior, CS/Math, 1.05', 'Grad', 'Grad', 'Grad', 'Grad', 'Grad', 'Grad', 'Grad', 'Grad', 'Senior, CS/Math, 3.03', 'Grad', 'Junior, ELSE, 5.12', 'Sophomore, CS/Math, 3.0', 'Sophomore, ELSE, 5.06', 'Grad', 'Sophomore, CS/Math, 1.14', 'Grad', 'Sophomore, ELSE, 3.13', 'Freshman, ELSE, 4.08', 'Senior, CS/Math, 4.01', 'Sophomore, ELSE, 4.09', 'Grad', 'Junior, CS/Math, 2.07', 'Junior, ELSE, 2.04', 'Freshman, CS/Math, 4.02', 'Junior, ELSE, 5.1']\n",
      "------------------------------------------\n",
      "['Grad', 'Grad', 'Grad', 'Senior, CS/Math, 1.05', 'Grad', 'Grad', 'Grad', 'Grad', 'Grad', 'Grad', 'Grad', 'Grad', 'Senior, CS/Math, 3.03', 'Junior, CS/Math, 2.11', 'Junior, ELSE, 5.12', 'Sophomore, CS/Math, 3.0', 'Sophomore, ELSE, 5.06', 'Grad', 'Sophomore, CS/Math, 1.14', 'Grad', 'Sophomore, ELSE, 3.13', 'Freshman, ELSE, 4.08', 'Senior, CS/Math, 4.01', 'Sophomore, ELSE, 4.09', 'Grad', 'Junior, CS/Math, 2.07', 'Junior, ELSE, 2.04', 'Freshman, CS/Math, 4.02', 'Junior, ELSE, 5.1']\n",
      "['Grad', 'Grad', 'Grad', 'Grad', 'Grad', 'Grad', 'Senior, CS/Math, 1.05', 'Grad', 'Grad', 'Grad', 'Grad', 'Senior, CS/Math, 3.03', 'Junior, CS/Math, 2.11', 'Junior, ELSE, 5.12', 'Sophomore, CS/Math, 3.0', 'Sophomore, ELSE, 5.06', 'Grad', 'Sophomore, CS/Math, 1.14', 'Grad', 'Sophomore, ELSE, 3.13', 'Freshman, ELSE, 4.08', 'Senior, CS/Math, 4.01', 'Sophomore, ELSE, 4.09', 'Grad', 'Junior, CS/Math, 2.07', 'Junior, ELSE, 2.04', 'Freshman, CS/Math, 4.02', 'Junior, ELSE, 5.1']\n",
      "['Grad', 'Grad', 'Grad', 'Grad', 'Grad', 'Senior, CS/Math, 1.05', 'Grad', 'Grad', 'Grad', 'Grad', 'Senior, CS/Math, 3.03', 'Junior, CS/Math, 2.11', 'Junior, ELSE, 5.12', 'Sophomore, CS/Math, 3.0', 'Sophomore, ELSE, 5.06', 'Grad', 'Sophomore, CS/Math, 1.14', 'Grad', 'Sophomore, ELSE, 3.13', 'Freshman, ELSE, 4.08', 'Senior, CS/Math, 4.01', 'Sophomore, ELSE, 4.09', 'Grad', 'Junior, CS/Math, 2.07', 'Junior, ELSE, 2.04', 'Freshman, CS/Math, 4.02', 'Junior, ELSE, 5.1']\n",
      "['Grad', 'Grad', 'Grad', 'Grad', 'Senior, CS/Math, 1.05', 'Grad', 'Grad', 'Grad', 'Grad', 'Senior, CS/Math, 3.03', 'Junior, CS/Math, 2.11', 'Junior, ELSE, 5.12', 'Sophomore, CS/Math, 3.0', 'Sophomore, ELSE, 5.06', 'Grad', 'Sophomore, CS/Math, 1.14', 'Grad', 'Sophomore, ELSE, 3.13', 'Freshman, ELSE, 4.08', 'Senior, CS/Math, 4.01', 'Sophomore, ELSE, 4.09', 'Grad', 'Junior, CS/Math, 2.07', 'Junior, ELSE, 2.04', 'Freshman, CS/Math, 4.02', 'Junior, ELSE, 5.1']\n",
      "['Grad', 'Grad', 'Grad', 'Senior, CS/Math, 1.05', 'Grad', 'Grad', 'Grad', 'Grad', 'Senior, CS/Math, 3.03', 'Junior, CS/Math, 2.11', 'Junior, ELSE, 5.12', 'Sophomore, CS/Math, 3.0', 'Sophomore, ELSE, 5.06', 'Grad', 'Sophomore, CS/Math, 1.14', 'Grad', 'Sophomore, ELSE, 3.13', 'Freshman, ELSE, 4.08', 'Senior, CS/Math, 4.01', 'Sophomore, ELSE, 4.09', 'Grad', 'Junior, CS/Math, 2.07', 'Junior, ELSE, 2.04', 'Freshman, CS/Math, 4.02', 'Junior, ELSE, 5.1']\n",
      "['Grad', 'Grad', 'Grad', 'Grad', 'Grad', 'Grad', 'Grad', 'Senior, CS/Math, 3.03', 'Junior, CS/Math, 2.11', 'Grad', 'Sophomore, CS/Math, 3.0', 'Sophomore, ELSE, 5.06', 'Grad', 'Sophomore, CS/Math, 1.14', 'Senior, CS/Math, 1.05', 'Sophomore, ELSE, 3.13', 'Freshman, ELSE, 4.08', 'Senior, CS/Math, 4.01', 'Sophomore, ELSE, 4.09', 'Junior, ELSE, 5.12', 'Junior, CS/Math, 2.07', 'Junior, ELSE, 2.04', 'Freshman, CS/Math, 4.02', 'Junior, ELSE, 5.1']\n",
      "['Grad', 'Grad', 'Grad', 'Grad', 'Grad', 'Grad', 'Senior, CS/Math, 1.05', 'Junior, CS/Math, 2.11', 'Grad', 'Sophomore, CS/Math, 3.0', 'Sophomore, ELSE, 5.06', 'Grad', 'Sophomore, CS/Math, 1.14', 'Senior, CS/Math, 3.03', 'Sophomore, ELSE, 3.13', 'Freshman, ELSE, 4.08', 'Senior, CS/Math, 4.01', 'Sophomore, ELSE, 4.09', 'Junior, ELSE, 5.12', 'Junior, CS/Math, 2.07', 'Junior, ELSE, 2.04', 'Freshman, CS/Math, 4.02', 'Junior, ELSE, 5.1']\n",
      "['Grad', 'Grad', 'Grad', 'Grad', 'Grad', 'Senior, CS/Math, 1.05', 'Junior, CS/Math, 2.11', 'Grad', 'Sophomore, CS/Math, 3.0', 'Sophomore, ELSE, 5.06', 'Grad', 'Sophomore, CS/Math, 1.14', 'Senior, CS/Math, 3.03', 'Sophomore, ELSE, 3.13', 'Freshman, ELSE, 4.08', 'Senior, CS/Math, 4.01', 'Sophomore, ELSE, 4.09', 'Junior, ELSE, 5.12', 'Junior, CS/Math, 2.07', 'Junior, ELSE, 2.04', 'Freshman, CS/Math, 4.02', 'Junior, ELSE, 5.1']\n",
      "['Grad', 'Grad', 'Grad', 'Grad', 'Senior, CS/Math, 1.05', 'Junior, CS/Math, 2.11', 'Grad', 'Sophomore, CS/Math, 3.0', 'Sophomore, ELSE, 5.06', 'Grad', 'Sophomore, CS/Math, 1.14', 'Senior, CS/Math, 3.03', 'Sophomore, ELSE, 3.13', 'Freshman, ELSE, 4.08', 'Senior, CS/Math, 4.01', 'Sophomore, ELSE, 4.09', 'Junior, ELSE, 5.12', 'Junior, CS/Math, 2.07', 'Junior, ELSE, 2.04', 'Freshman, CS/Math, 4.02', 'Junior, ELSE, 5.1']\n",
      "['Grad', 'Grad', 'Grad', 'Senior, CS/Math, 1.05', 'Junior, CS/Math, 2.11', 'Grad', 'Senior, CS/Math, 4.01', 'Sophomore, ELSE, 5.06', 'Grad', 'Sophomore, CS/Math, 1.14', 'Senior, CS/Math, 3.03', 'Sophomore, ELSE, 3.13', 'Freshman, ELSE, 4.08', 'Sophomore, CS/Math, 3.0', 'Sophomore, ELSE, 4.09', 'Junior, ELSE, 5.12', 'Junior, CS/Math, 2.07', 'Junior, ELSE, 2.04', 'Freshman, CS/Math, 4.02', 'Junior, ELSE, 5.1']\n",
      "['Grad', 'Grad', 'Senior, CS/Math, 1.05', 'Junior, CS/Math, 2.11', 'Grad', 'Senior, CS/Math, 4.01', 'Junior, ELSE, 5.12', 'Grad', 'Sophomore, CS/Math, 1.14', 'Senior, CS/Math, 3.03', 'Sophomore, ELSE, 3.13', 'Freshman, ELSE, 4.08', 'Sophomore, CS/Math, 3.0', 'Sophomore, ELSE, 4.09', 'Sophomore, ELSE, 5.06', 'Junior, CS/Math, 2.07', 'Junior, ELSE, 2.04', 'Freshman, CS/Math, 4.02', 'Junior, ELSE, 5.1']\n",
      "['Grad', 'Grad', 'Grad', 'Senior, CS/Math, 1.05', 'Senior, CS/Math, 4.01', 'Junior, ELSE, 5.12', 'Junior, CS/Math, 2.11', 'Sophomore, CS/Math, 1.14', 'Senior, CS/Math, 3.03', 'Sophomore, ELSE, 3.13', 'Freshman, ELSE, 4.08', 'Sophomore, CS/Math, 3.0', 'Sophomore, ELSE, 4.09', 'Sophomore, ELSE, 5.06', 'Junior, CS/Math, 2.07', 'Junior, ELSE, 2.04', 'Freshman, CS/Math, 4.02', 'Junior, ELSE, 5.1']\n",
      "['Grad', 'Grad', 'Senior, CS/Math, 1.05', 'Senior, CS/Math, 3.03', 'Sophomore, CS/Math, 3.0', 'Junior, CS/Math, 2.11', 'Junior, CS/Math, 2.07', 'Senior, CS/Math, 4.01', 'Sophomore, ELSE, 3.13', 'Freshman, ELSE, 4.08', 'Junior, ELSE, 5.12', 'Sophomore, ELSE, 4.09', 'Sophomore, ELSE, 5.06', 'Sophomore, CS/Math, 1.14', 'Junior, ELSE, 2.04', 'Freshman, CS/Math, 4.02', 'Junior, ELSE, 5.1']\n",
      "['Grad', 'Senior, CS/Math, 1.05', 'Senior, CS/Math, 3.03', 'Sophomore, CS/Math, 3.0', 'Junior, CS/Math, 2.11', 'Junior, CS/Math, 2.07', 'Senior, CS/Math, 4.01', 'Sophomore, ELSE, 3.13', 'Freshman, ELSE, 4.08', 'Junior, ELSE, 5.12', 'Sophomore, ELSE, 4.09', 'Sophomore, ELSE, 5.06', 'Sophomore, CS/Math, 1.14', 'Junior, ELSE, 2.04', 'Freshman, CS/Math, 4.02', 'Junior, ELSE, 5.1']\n",
      "['Senior, CS/Math, 1.05', 'Senior, CS/Math, 3.03', 'Senior, CS/Math, 4.01', 'Junior, CS/Math, 2.11', 'Junior, CS/Math, 2.07', 'Sophomore, CS/Math, 1.14', 'Sophomore, ELSE, 3.13', 'Freshman, ELSE, 4.08', 'Junior, ELSE, 5.12', 'Sophomore, ELSE, 4.09', 'Sophomore, ELSE, 5.06', 'Sophomore, CS/Math, 3.0', 'Junior, ELSE, 2.04', 'Freshman, CS/Math, 4.02', 'Junior, ELSE, 5.1']\n",
      "['Senior, CS/Math, 3.03', 'Senior, CS/Math, 4.01', 'Junior, CS/Math, 2.11', 'Junior, CS/Math, 2.07', 'Sophomore, CS/Math, 1.14', 'Freshman, CS/Math, 4.02', 'Junior, ELSE, 5.1', 'Junior, ELSE, 5.12', 'Sophomore, ELSE, 4.09', 'Sophomore, ELSE, 5.06', 'Sophomore, CS/Math, 3.0', 'Junior, ELSE, 2.04', 'Sophomore, ELSE, 3.13', 'Freshman, ELSE, 4.08']\n",
      "['Senior, CS/Math, 4.01', 'Junior, CS/Math, 2.11', 'Junior, CS/Math, 2.07', 'Sophomore, CS/Math, 1.14', 'Sophomore, CS/Math, 3.0', 'Sophomore, ELSE, 3.13', 'Junior, ELSE, 5.12', 'Sophomore, ELSE, 4.09', 'Sophomore, ELSE, 5.06', 'Freshman, CS/Math, 4.02', 'Junior, ELSE, 2.04', 'Junior, ELSE, 5.1', 'Freshman, ELSE, 4.08']\n",
      "['Junior, CS/Math, 2.11', 'Junior, CS/Math, 2.07', 'Sophomore, CS/Math, 1.14', 'Sophomore, CS/Math, 3.0', 'Junior, ELSE, 2.04', 'Junior, ELSE, 5.12', 'Sophomore, ELSE, 4.09', 'Sophomore, ELSE, 5.06', 'Freshman, CS/Math, 4.02', 'Sophomore, ELSE, 3.13', 'Junior, ELSE, 5.1', 'Freshman, ELSE, 4.08']\n",
      "['Junior, CS/Math, 2.07', 'Sophomore, CS/Math, 1.14', 'Sophomore, CS/Math, 3.0', 'Freshman, CS/Math, 4.02', 'Junior, ELSE, 5.12', 'Sophomore, ELSE, 4.09', 'Sophomore, ELSE, 5.06', 'Junior, ELSE, 2.04', 'Sophomore, ELSE, 3.13', 'Junior, ELSE, 5.1', 'Freshman, ELSE, 4.08']\n",
      "['Sophomore, CS/Math, 1.14', 'Sophomore, CS/Math, 3.0', 'Freshman, CS/Math, 4.02', 'Sophomore, ELSE, 3.13', 'Sophomore, ELSE, 4.09', 'Sophomore, ELSE, 5.06', 'Junior, ELSE, 2.04', 'Junior, ELSE, 5.12', 'Junior, ELSE, 5.1', 'Freshman, ELSE, 4.08']\n",
      "['Sophomore, CS/Math, 3.0', 'Freshman, CS/Math, 4.02', 'Junior, ELSE, 2.04', 'Junior, ELSE, 5.1', 'Sophomore, ELSE, 5.06', 'Sophomore, ELSE, 3.13', 'Junior, ELSE, 5.12', 'Sophomore, ELSE, 4.09', 'Freshman, ELSE, 4.08']\n",
      "['Freshman, CS/Math, 4.02', 'Junior, ELSE, 2.04', 'Junior, ELSE, 5.12', 'Freshman, ELSE, 4.08', 'Sophomore, ELSE, 3.13', 'Junior, ELSE, 5.1', 'Sophomore, ELSE, 4.09', 'Sophomore, ELSE, 5.06']\n",
      "['Junior, ELSE, 2.04', 'Sophomore, ELSE, 3.13', 'Sophomore, ELSE, 4.09', 'Junior, ELSE, 5.12', 'Junior, ELSE, 5.1', 'Freshman, ELSE, 4.08', 'Sophomore, ELSE, 5.06']\n",
      "['Sophomore, ELSE, 3.13', 'Junior, ELSE, 5.1', 'Junior, ELSE, 5.12', 'Sophomore, ELSE, 4.09', 'Freshman, ELSE, 4.08', 'Sophomore, ELSE, 5.06']\n",
      "['Junior, ELSE, 5.12', 'Junior, ELSE, 5.1', 'Sophomore, ELSE, 4.09', 'Freshman, ELSE, 4.08', 'Sophomore, ELSE, 5.06']\n",
      "['Junior, ELSE, 5.1', 'Sophomore, ELSE, 4.09', 'Freshman, ELSE, 4.08', 'Sophomore, ELSE, 5.06']\n",
      "['Sophomore, ELSE, 4.09', 'Freshman, ELSE, 4.08', 'Sophomore, ELSE, 5.06']\n",
      "['Freshman, ELSE, 4.08', 'Sophomore, ELSE, 5.06']\n",
      "['Sophomore, ELSE, 5.06']\n"
     ]
    }
   ],
   "source": [
    "# So now the goal is to start popping the root of the heap, putting it into a final list, and re-max-heapify\n",
    "# if this works as intended, we will see that grad students will be the first to come out, and then Seniors CS MATH, etc ...\n",
    "final_list = []\n",
    "\n",
    "initial_heap = max_heapify(student_list, 0)\n",
    "print(initial_heap)\n",
    "\n",
    "print(\"------------------------------------------\")\n",
    "while len(initial_heap) > 1:\n",
    "    current_root = initial_heap.pop(0)\n",
    "    final_list.append(current_root)\n",
    "\n",
    "    initial_heap = max_heapify(initial_heap, 0)\n",
    "    print(initial_heap)\n",
    "\n",
    "\n"
   ],
   "metadata": {
    "collapsed": false,
    "ExecuteTime": {
     "end_time": "2023-10-22T16:25:47.982105Z",
     "start_time": "2023-10-22T16:25:47.980358Z"
    }
   },
   "id": "149193dae828bef7"
  },
  {
   "cell_type": "code",
   "execution_count": 285,
   "outputs": [
    {
     "name": "stdout",
     "output_type": "stream",
     "text": [
      "['Grad', 'Grad', 'Grad', 'Grad', 'Grad', 'Grad', 'Grad', 'Grad', 'Grad', 'Grad', 'Grad', 'Grad', 'Grad', 'Grad', 'Grad', 'Senior, CS/Math, 1.05', 'Senior, CS/Math, 3.03', 'Senior, CS/Math, 4.01', 'Junior, CS/Math, 2.11', 'Junior, CS/Math, 2.07', 'Sophomore, CS/Math, 1.14', 'Sophomore, CS/Math, 3.0', 'Freshman, CS/Math, 4.02', 'Junior, ELSE, 2.04', 'Sophomore, ELSE, 3.13', 'Junior, ELSE, 5.12', 'Junior, ELSE, 5.1', 'Sophomore, ELSE, 4.09', 'Freshman, ELSE, 4.08']\n",
      "Grad \n",
      " WEIGHT:  99843\n",
      "Grad \n",
      " WEIGHT:  99842\n",
      "Grad \n",
      " WEIGHT:  99841\n",
      "Grad \n",
      " WEIGHT:  99840\n",
      "Grad \n",
      " WEIGHT:  99839\n",
      "Grad \n",
      " WEIGHT:  99838\n",
      "Grad \n",
      " WEIGHT:  99837\n",
      "Grad \n",
      " WEIGHT:  99836\n",
      "Grad \n",
      " WEIGHT:  99835\n",
      "Grad \n",
      " WEIGHT:  99834\n",
      "Grad \n",
      " WEIGHT:  99833\n",
      "Grad \n",
      " WEIGHT:  99832\n",
      "Grad \n",
      " WEIGHT:  99831\n",
      "Grad \n",
      " WEIGHT:  99830\n",
      "Grad \n",
      " WEIGHT:  99829\n",
      "Senior, CS/Math, 1.05 \n",
      " WEIGHT:  45.05\n",
      "Senior, CS/Math, 3.03 \n",
      " WEIGHT:  43.03\n",
      "Senior, CS/Math, 4.01 \n",
      " WEIGHT:  42.01\n",
      "Junior, CS/Math, 2.11 \n",
      " WEIGHT:  34.11\n",
      "Junior, CS/Math, 2.07 \n",
      " WEIGHT:  34.07\n",
      "Sophomore, CS/Math, 1.14 \n",
      " WEIGHT:  25.14\n",
      "Sophomore, CS/Math, 3.0 \n",
      " WEIGHT:  23.0\n",
      "Freshman, CS/Math, 4.02 \n",
      " WEIGHT:  12.02\n",
      "Junior, ELSE, 2.04 \n",
      " WEIGHT:  7.04\n",
      "Sophomore, ELSE, 3.13 \n",
      " WEIGHT:  5.13\n",
      "Junior, ELSE, 5.12 \n",
      " WEIGHT:  4.12\n",
      "Junior, ELSE, 5.1 \n",
      " WEIGHT:  4.1\n",
      "Sophomore, ELSE, 4.09 \n",
      " WEIGHT:  4.09\n",
      "Freshman, ELSE, 4.08 \n",
      " WEIGHT:  3.08\n"
     ]
    }
   ],
   "source": [
    "print(final_list)\n",
    "\n",
    "# This is to show you each final student and their over all weight: \n",
    "for student in final_list:\n",
    "    print(student, \"\\n\", \"WEIGHT: \",weight_calculator(student))"
   ],
   "metadata": {
    "collapsed": false,
    "ExecuteTime": {
     "end_time": "2023-10-22T16:25:48.020088Z",
     "start_time": "2023-10-22T16:25:47.982875Z"
    }
   },
   "id": "e2e64f1b6b978cba"
  },
  {
   "cell_type": "code",
   "execution_count": 285,
   "outputs": [],
   "source": [
    "# Now you take n first batch of students to fill up your class \n",
    "\"You're welcome professor : ) \"\n",
    "\n"
   ],
   "metadata": {
    "collapsed": false,
    "ExecuteTime": {
     "end_time": "2023-10-22T16:25:48.020223Z",
     "start_time": "2023-10-22T16:25:47.985298Z"
    }
   },
   "id": "9e609aaf59da37e0"
  }
 ],
 "metadata": {
  "kernelspec": {
   "display_name": "Python 3",
   "language": "python",
   "name": "python3"
  },
  "language_info": {
   "codemirror_mode": {
    "name": "ipython",
    "version": 2
   },
   "file_extension": ".py",
   "mimetype": "text/x-python",
   "name": "python",
   "nbconvert_exporter": "python",
   "pygments_lexer": "ipython2",
   "version": "2.7.6"
  }
 },
 "nbformat": 4,
 "nbformat_minor": 5
}
