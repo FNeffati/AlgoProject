{
 "cells": [
  {
   "cell_type": "markdown",
   "source": [
    "# Group Project \n",
    "\n",
    "This File will have the main algorithms for the project and it will also have the test cases and all related explanations\n",
    "\n",
    "### Authors: Raymond Bidini, Sujit Sivadanam, Fehmi Neffati "
   ],
   "metadata": {
    "collapsed": false
   },
   "id": "84948f45c0557065"
  },
  {
   "cell_type": "code",
   "execution_count": 11,
   "outputs": [],
   "source": [
    "import random"
   ],
   "metadata": {
    "collapsed": false,
    "ExecuteTime": {
     "end_time": "2023-10-22T12:26:59.230872Z",
     "start_time": "2023-10-22T12:26:59.227454Z"
    }
   },
   "id": "88bdb45e99cf7a1c"
  },
  {
   "cell_type": "code",
   "execution_count": 1,
   "id": "initial_id",
   "metadata": {
    "collapsed": true,
    "ExecuteTime": {
     "end_time": "2023-10-22T12:18:32.190491Z",
     "start_time": "2023-10-22T12:18:32.183257Z"
    }
   },
   "outputs": [],
   "source": [
    "example_array = [4, 2, 13, 1, 3, 23, 5]"
   ]
  },
  {
   "cell_type": "code",
   "execution_count": 5,
   "outputs": [
    {
     "name": "stdout",
     "output_type": "stream",
     "text": [
      "INPUT ARRAY:  [23, 2, 13, 1, 3, 4, 5]\n",
      "OUTPUT ARRAY: [23, 2, 13, 1, 3, 4, 5]\n",
      "---------------------------------\n",
      "Got it right:\n",
      "INPUT ARRAY:  [10, 5, 3, 4, 1]\n",
      "OUTPUT ARRAY: [10, 5, 3, 4, 1]\n"
     ]
    }
   ],
   "source": [
    "def max_heapify(input_array, current_root_index):\n",
    "    \n",
    "    left_index = 2*current_root_index + 1\n",
    "    right_index = 2*current_root_index + 2\n",
    "    if left_index <= len(input_array) and input_array[left_index] > input_array[current_root_index]:\n",
    "        largest_item_index = left_index\n",
    "    else:\n",
    "        largest_item_index = current_root_index\n",
    "    \n",
    "    if right_index <= len(input_array) and input_array[right_index] > input_array[largest_item_index]:\n",
    "        largest_item_index = right_index\n",
    "    \n",
    "    if largest_item_index != current_root_index:\n",
    "        temp = input_array[current_root_index]\n",
    "        input_array[current_root_index] = input_array[largest_item_index]\n",
    "        input_array[largest_item_index] = temp\n",
    "        max_heapify(input_array, largest_item_index)\n",
    "    \n",
    "    return input_array\n",
    "\n",
    "print(\"INPUT ARRAY: \", example_array)\n",
    "print(\"OUTPUT ARRAY:\", max_heapify(example_array, 0))\n",
    "\n",
    "print(\"---------------------------------\")\n",
    "def test_max_heapify():\n",
    "    input_array = [4, 10, 3, 5, 1]\n",
    "    expected_result = [10, 5, 3, 4, 1]\n",
    "\n",
    "    result = max_heapify(input_array, 0)\n",
    "    \n",
    "    if result == expected_result:\n",
    "        print(\"Got it right:\")\n",
    "        print(\"INPUT ARRAY: \", input_array)\n",
    "        print(\"OUTPUT ARRAY:\", result)\n",
    "    else: \n",
    "        print(f\"Expected {expected_result}, but got {result}\")\n",
    "\n",
    "test_max_heapify()"
   ],
   "metadata": {
    "collapsed": false,
    "ExecuteTime": {
     "end_time": "2023-10-22T12:20:23.819866Z",
     "start_time": "2023-10-22T12:20:23.816116Z"
    }
   },
   "id": "e6fbbf8600afb823"
  },
  {
   "cell_type": "code",
   "execution_count": 14,
   "outputs": [],
   "source": [
    "High_Ed_Level = {\n",
    "\t\"Grad\": 99999,\n",
    "\t\"Undergrad\": 1\n",
    "}\n",
    "\n",
    "Undergrad_Level = {\n",
    "\t\"Senior\": 4, \n",
    "\t\"Junior\": 3,\n",
    "\t\"Sophomore\": 2,\n",
    "\t\"Freshman\": 1\n",
    "} \n",
    "\n",
    "AOC = {\n",
    "\t\"CS/Math\": 10,\n",
    "\t\"ELSE\": 1\n",
    "\t}\n",
    "\n",
    "Day = {\n",
    "\t1: 5,\n",
    "\t2: 4,\n",
    "\t3: 3,\n",
    "\t4: 2,\n",
    "\t5: 1\n",
    "}"
   ],
   "metadata": {
    "collapsed": false,
    "ExecuteTime": {
     "end_time": "2023-10-22T12:38:52.613963Z",
     "start_time": "2023-10-22T12:38:52.610706Z"
    }
   },
   "id": "a8c97d22b7fde195"
  },
  {
   "cell_type": "code",
   "execution_count": 15,
   "outputs": [
    {
     "name": "stdout",
     "output_type": "stream",
     "text": [
      "99999\n",
      "40\n",
      "True\n"
     ]
    }
   ],
   "source": [
    "# Test\n",
    "print(High_Ed_Level[\"Grad\"])\n",
    "print(Undergrad_Level[\"Senior\"] * AOC[\"CS/Math\"])\n",
    "print(Undergrad_Level[\"Senior\"] * AOC[\"CS/Math\"] > Undergrad_Level[\"Junior\"] * AOC[\"CS/Math\"])"
   ],
   "metadata": {
    "collapsed": false,
    "ExecuteTime": {
     "end_time": "2023-10-22T12:38:53.387903Z",
     "start_time": "2023-10-22T12:38:53.383944Z"
    }
   },
   "id": "c30dc27ac2fb36ef"
  },
  {
   "cell_type": "code",
   "execution_count": 32,
   "outputs": [
    {
     "name": "stdout",
     "output_type": "stream",
     "text": [
      "['Grad', 'Grad', 'Grad', 'Grad', 'Grad', 'Grad', 'Grad', 'Grad', 'Grad', 'Grad', 'Grad', 'Grad', 'Grad', 'Grad', 'Grad']\n",
      "Grad\n",
      "Senior, ELSE, 1\n",
      "Junior, CS/Math, 3\n",
      "Junior, ELSE, 3\n",
      "Grad\n",
      "Grad\n",
      "Sophomore, CS/Math, 2\n",
      "Junior, CS/Math, 3\n",
      "Grad\n",
      "Senior, ELSE, 2\n",
      "Sophomore, CS/Math, 1\n",
      "Freshman, ELSE, 4\n",
      "Freshman, CS/Math, 2\n",
      "Senior, CS/Math, 5\n",
      "Grad\n",
      "Grad\n",
      "Grad\n",
      "Grad\n",
      "Freshman, ELSE, 1\n",
      "Grad\n",
      "Grad\n",
      "Sophomore, ELSE, 2\n",
      "Senior, ELSE, 3\n",
      "Grad\n",
      "Grad\n",
      "Grad\n",
      "Grad\n",
      "Sophomore, ELSE, 1\n",
      "Freshman, ELSE, 4\n",
      "Grad\n"
     ]
    }
   ],
   "source": [
    "\"\"\"\n",
    "Take a list of each dictionary \n",
    "Make a list of 30 randomly shuffled elements\n",
    "Now from each list, pop 1, and combine \n",
    "\n",
    "\"\"\"\n",
    "# each number we multiplied by will help get the length of each list to the least common multiple (to avoid indexing issues later) \n",
    "undergrad_keys = list(Undergrad_Level.keys()) * 5 \n",
    "aoc_keys = list(AOC.keys()) * 10\n",
    "day_keys = [str(k) for k in Day.keys()] * 4\n",
    "\n",
    "# Shuffle each list\n",
    "random.shuffle(undergrad_keys)\n",
    "random.shuffle(aoc_keys)\n",
    "random.shuffle(day_keys)\n",
    "\n",
    "# Combine the randomized items\n",
    "combined_list = []\n",
    "for i in range(15):\n",
    "    combined_item = \", \".join([undergrad_keys[i], aoc_keys[i], day_keys[i]])\n",
    "    combined_list.append(combined_item)\n",
    "\n",
    "# Toss in a couple of grad students in there: \n",
    "\n",
    "grad = [\"Grad\"] * 15\n",
    "print(grad)\n",
    "\n",
    "combined_list += grad\n",
    "random.shuffle(combined_list)    \n",
    "\n",
    "for item in combined_list:\n",
    "    print(item)"
   ],
   "metadata": {
    "collapsed": false,
    "ExecuteTime": {
     "end_time": "2023-10-22T14:01:13.299287Z",
     "start_time": "2023-10-22T14:01:13.295433Z"
    }
   },
   "id": "90822adaf28ebcba"
  },
  {
   "cell_type": "code",
   "execution_count": null,
   "outputs": [],
   "source": [
    "def weight_calculator(student):\n",
    "    if student == \"Grad\":\n",
    "        return 99999\n",
    "    \n",
    "    feats = student.split(',')\n",
    "    year = feats[0]\n",
    "    aoc = feats[1]\n",
    "    day = feats[2]\n",
    "    \n",
    "    weight = Undergrad_Level[year] * AOC[aoc] + int(Day[day])\n",
    "    return weight\n",
    "    \n",
    "    \n",
    "    \n",
    "\n",
    "def max_heapify(input_array, class_weights, current_root_index):\n",
    "    left_index = 2 * current_root_index + 1\n",
    "    right_index = 2 * current_root_index + 2\n",
    "\n",
    "    # Determine class weights for the current root and its children\n",
    "    current_weight = class_weights.get(input_array[current_root_index], 0)\n",
    "    left_weight = class_weights.get(input_array[left_index], 0) if left_index < len(input_array) else 0\n",
    "    right_weight = class_weights.get(input_array[right_index], 0) if right_index < len(input_array) else 0\n",
    "\n",
    "    # Compare using class weights\n",
    "    largest_item_index = current_root_index\n",
    "\n",
    "    if left_index < len(input_array) and left_weight >= current_weight:\n",
    "        largest_item_index = left_index\n",
    "\n",
    "    if right_index < len(input_array) and right_weight >= class_weights.get(input_array[largest_item_index], 0):\n",
    "        largest_item_index = right_index\n",
    "\n",
    "    if largest_item_index != current_root_index:\n",
    "        temp = input_array[current_root_index]\n",
    "        input_array[current_root_index] = input_array[largest_item_index]\n",
    "        input_array[largest_item_index] = temp\n",
    "        max_heapify(input_array, largest_item_index, class_weights)\n",
    "\n",
    "    return input_array"
   ],
   "metadata": {
    "collapsed": false
   },
   "id": "5fd955128bc102e5"
  }
 ],
 "metadata": {
  "kernelspec": {
   "display_name": "Python 3",
   "language": "python",
   "name": "python3"
  },
  "language_info": {
   "codemirror_mode": {
    "name": "ipython",
    "version": 2
   },
   "file_extension": ".py",
   "mimetype": "text/x-python",
   "name": "python",
   "nbconvert_exporter": "python",
   "pygments_lexer": "ipython2",
   "version": "2.7.6"
  }
 },
 "nbformat": 4,
 "nbformat_minor": 5
}
