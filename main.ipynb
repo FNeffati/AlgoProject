{
 "cells": [
  {
   "cell_type": "markdown",
   "source": [
    "# Group Project \n",
    "\n",
    "This File will have the main algorithms for the project and it will also have the test cases and all related explanations\n",
    "\n",
    "### Authors: Raymond Bidini, Sujit Sivadanam, Fehmi Neffati "
   ],
   "metadata": {
    "collapsed": false
   },
   "id": "84948f45c0557065"
  },
  {
   "cell_type": "code",
   "execution_count": 184,
   "outputs": [],
   "source": [
    "import random"
   ],
   "metadata": {
    "collapsed": false,
    "ExecuteTime": {
     "end_time": "2023-10-22T14:57:22.335340Z",
     "start_time": "2023-10-22T14:57:22.320685Z"
    }
   },
   "id": "88bdb45e99cf7a1c"
  },
  {
   "cell_type": "code",
   "execution_count": 185,
   "outputs": [
    {
     "name": "stdout",
     "output_type": "stream",
     "text": [
      "INPUT ARRAY:  [4, 2, 13, 1, 3, 23, 5]\n",
      "OUTPUT ARRAY: [13, 2, 23, 1, 3, 4, 5]\n",
      "---------------------------------\n",
      "Got it right:\n",
      "INPUT ARRAY:  [10, 5, 3, 4, 1]\n",
      "OUTPUT ARRAY: [10, 5, 3, 4, 1]\n"
     ]
    }
   ],
   "source": [
    "def max_heapify(input_array, current_root_index):\n",
    "    \n",
    "    left_index = 2*current_root_index + 1\n",
    "    right_index = 2*current_root_index + 2\n",
    "    if left_index <= len(input_array) and input_array[left_index] > input_array[current_root_index]:\n",
    "        largest_item_index = left_index\n",
    "    else:\n",
    "        largest_item_index = current_root_index\n",
    "    \n",
    "    if right_index <= len(input_array) and input_array[right_index] > input_array[largest_item_index]:\n",
    "        largest_item_index = right_index\n",
    "    \n",
    "    if largest_item_index != current_root_index:\n",
    "        temp = input_array[current_root_index]\n",
    "        \n",
    "        input_array[current_root_index] = input_array[largest_item_index]\n",
    "        input_array[largest_item_index] = temp\n",
    "        \n",
    "        max_heapify(input_array, largest_item_index)\n",
    "    \n",
    "    return input_array\n",
    "\n",
    "example_array = [4, 2, 13, 1, 3, 23, 5]\n",
    "print(\"INPUT ARRAY: \", example_array)\n",
    "print(\"OUTPUT ARRAY:\", max_heapify(example_array, 0))\n",
    "\n",
    "print(\"---------------------------------\")\n",
    "def test_max_heapify():\n",
    "    input_array = [4, 10, 3, 5, 1]\n",
    "    expected_result = [10, 5, 3, 4, 1]\n",
    "\n",
    "    result = max_heapify(input_array, 0)\n",
    "    \n",
    "    if result == expected_result:\n",
    "        print(\"Got it right:\")\n",
    "        print(\"INPUT ARRAY: \", input_array)\n",
    "        print(\"OUTPUT ARRAY:\", result)\n",
    "    else: \n",
    "        print(f\"Expected {expected_result}, but got {result}\")\n",
    "\n",
    "test_max_heapify()"
   ],
   "metadata": {
    "collapsed": false,
    "ExecuteTime": {
     "end_time": "2023-10-22T14:57:22.368374Z",
     "start_time": "2023-10-22T14:57:22.329949Z"
    }
   },
   "id": "e6fbbf8600afb823"
  },
  {
   "cell_type": "code",
   "execution_count": 186,
   "outputs": [],
   "source": [
    "High_Ed_Level = {\n",
    "\t\"Grad\": 99999,\n",
    "\t\"Undergrad\": 1\n",
    "}\n",
    "\n",
    "Undergrad_Level = {\n",
    "\t\"Senior\": 4, \n",
    "\t\"Junior\": 3,\n",
    "\t\"Sophomore\": 2,\n",
    "\t\"Freshman\": 1\n",
    "} \n",
    "\n",
    "AOC = {\n",
    "\t\"CS/Math\": 10,\n",
    "\t\"ELSE\": 1\n",
    "\t}\n",
    "\n",
    "Day = {\n",
    "\t1: 5,\n",
    "\t2: 4,\n",
    "\t3: 3,\n",
    "\t4: 2,\n",
    "\t5: 1\n",
    "}"
   ],
   "metadata": {
    "collapsed": false,
    "ExecuteTime": {
     "end_time": "2023-10-22T14:57:22.368608Z",
     "start_time": "2023-10-22T14:57:22.336411Z"
    }
   },
   "id": "a8c97d22b7fde195"
  },
  {
   "cell_type": "code",
   "execution_count": 187,
   "outputs": [
    {
     "name": "stdout",
     "output_type": "stream",
     "text": [
      "99999\n",
      "4\n",
      "40\n",
      "True\n"
     ]
    }
   ],
   "source": [
    "# Test\n",
    "print(High_Ed_Level[\"Grad\"])\n",
    "print(Undergrad_Level[\"Senior\"])\n",
    "print(Undergrad_Level[\"Senior\"] * AOC[\"CS/Math\"])\n",
    "print(Undergrad_Level[\"Senior\"] * AOC[\"CS/Math\"] > Undergrad_Level[\"Junior\"] * AOC[\"CS/Math\"])"
   ],
   "metadata": {
    "collapsed": false,
    "ExecuteTime": {
     "end_time": "2023-10-22T14:57:22.368925Z",
     "start_time": "2023-10-22T14:57:22.344469Z"
    }
   },
   "id": "c30dc27ac2fb36ef"
  },
  {
   "cell_type": "code",
   "execution_count": 188,
   "outputs": [
    {
     "name": "stdout",
     "output_type": "stream",
     "text": [
      "Grad\n",
      "Sophomore, ELSE, 2.13\n",
      "Grad\n",
      "Freshman, CS/Math, 4.09\n",
      "Junior, ELSE, 1.1\n",
      "Grad\n",
      "Freshman, ELSE, 5.03\n",
      "Freshman, CS/Math, 4.05\n",
      "Grad\n",
      "Junior, CS/Math, 1.06\n",
      "Sophomore, CS/Math, 2.08\n",
      "Grad\n",
      "Grad\n",
      "Grad\n",
      "Grad\n",
      "Senior, ELSE, 3.01\n",
      "Grad\n",
      "Grad\n",
      "Grad\n",
      "Senior, CS/Math, 2.11\n",
      "Grad\n",
      "Freshman, ELSE, 5.07\n",
      "Senior, ELSE, 3.14\n",
      "Senior, CS/Math, 1.04\n",
      "Sophomore, ELSE, 4.12\n",
      "Grad\n",
      "Grad\n",
      "Senior, CS/Math, 5.0\n",
      "Grad\n",
      "Junior, ELSE, 3.02\n"
     ]
    }
   ],
   "source": [
    "\"\"\"\n",
    "Take a list of each dictionary \n",
    "Make a list of 20 randomly shuffled elements\n",
    "Now from each list take 1, and combine \n",
    "\n",
    "\"\"\"\n",
    "# each number we multiplied by will help get the length of each list to the least common multiple (to avoid indexing issues later) \n",
    "undergrad_keys = list(Undergrad_Level.keys()) * 5 \n",
    "aoc_keys = list(AOC.keys()) * 10\n",
    "day_keys = [str(k) for k in Day.keys()] * 4\n",
    "\n",
    "# Shuffle each list\n",
    "random.shuffle(undergrad_keys)\n",
    "random.shuffle(aoc_keys)\n",
    "random.shuffle(day_keys)\n",
    "\n",
    "# Combine the randomized items\n",
    "combined_list = []\n",
    "for i in range(15):\n",
    "    combined_item = \", \".join([undergrad_keys[i], aoc_keys[i], str(int(day_keys[i]) + (i*0.01))[:4]])\n",
    "    combined_list.append(combined_item)\n",
    "\n",
    "# Toss in a couple of grad students in there: \n",
    "\n",
    "grad = [\"Grad\"] * 15\n",
    "\n",
    "combined_list += grad\n",
    "random.shuffle(combined_list)    \n",
    "\n",
    "for item in combined_list:\n",
    "    print(item)"
   ],
   "metadata": {
    "collapsed": false,
    "ExecuteTime": {
     "end_time": "2023-10-22T14:57:22.369609Z",
     "start_time": "2023-10-22T14:57:22.350562Z"
    }
   },
   "id": "90822adaf28ebcba"
  },
  {
   "cell_type": "code",
   "execution_count": 189,
   "outputs": [
    {
     "name": "stdout",
     "output_type": "stream",
     "text": [
      "Weight for example student Junior, CS/Math, 4.01 :\n",
      "32.01\n"
     ]
    }
   ],
   "source": [
    "def weight_calculator(student):\n",
    "    if student == \"Grad\":\n",
    "        return 99999\n",
    "    \n",
    "    feats = student.replace(\" \", \"\").split(',')\n",
    "    \n",
    "    year = feats[0]\n",
    "    aoc = feats[1]\n",
    "    day = feats[2]\n",
    "    \n",
    "    weight = Undergrad_Level[year] * AOC[aoc] + Day[int(day[0])] + float(day[1:]) \n",
    "    return weight\n",
    "    \n",
    "    \n",
    "example_student = 'Junior, CS/Math, 4.01'\n",
    "print(\"Weight for example student\", example_student, \":\")\n",
    "print(weight_calculator(example_student))\n",
    "    "
   ],
   "metadata": {
    "collapsed": false,
    "ExecuteTime": {
     "end_time": "2023-10-22T14:57:22.369731Z",
     "start_time": "2023-10-22T14:57:22.354845Z"
    }
   },
   "id": "5fd955128bc102e5"
  },
  {
   "cell_type": "code",
   "execution_count": 190,
   "outputs": [],
   "source": [
    "student_list = combined_list"
   ],
   "metadata": {
    "collapsed": false,
    "ExecuteTime": {
     "end_time": "2023-10-22T14:57:22.370010Z",
     "start_time": "2023-10-22T14:57:22.361212Z"
    }
   },
   "id": "2c9a4193461444c6"
  },
  {
   "cell_type": "code",
   "execution_count": 191,
   "outputs": [
    {
     "name": "stdout",
     "output_type": "stream",
     "text": [
      "INPUT LIST\n",
      "['Grad', 'Sophomore, ELSE, 2.13', 'Grad', 'Freshman, CS/Math, 4.09', 'Junior, ELSE, 1.1', 'Grad', 'Freshman, ELSE, 5.03', 'Freshman, CS/Math, 4.05', 'Grad', 'Junior, CS/Math, 1.06', 'Sophomore, CS/Math, 2.08', 'Grad', 'Grad', 'Grad', 'Grad', 'Senior, ELSE, 3.01', 'Grad', 'Grad', 'Grad', 'Senior, CS/Math, 2.11', 'Grad', 'Freshman, ELSE, 5.07', 'Senior, ELSE, 3.14', 'Senior, CS/Math, 1.04', 'Sophomore, ELSE, 4.12', 'Grad', 'Grad', 'Senior, CS/Math, 5.0', 'Grad', 'Junior, ELSE, 3.02']\n",
      "\n",
      "RESULT: \n",
      "['Grad', 'Sophomore, ELSE, 2.13', 'Grad', 'Freshman, CS/Math, 4.09', 'Junior, ELSE, 1.1', 'Grad', 'Freshman, ELSE, 5.03', 'Freshman, CS/Math, 4.05', 'Grad', 'Junior, CS/Math, 1.06', 'Sophomore, CS/Math, 2.08', 'Grad', 'Grad', 'Grad', 'Grad', 'Senior, ELSE, 3.01', 'Grad', 'Grad', 'Grad', 'Senior, CS/Math, 2.11', 'Grad', 'Freshman, ELSE, 5.07', 'Senior, ELSE, 3.14', 'Senior, CS/Math, 1.04', 'Sophomore, ELSE, 4.12', 'Grad', 'Grad', 'Senior, CS/Math, 5.0', 'Grad', 'Junior, ELSE, 3.02']\n"
     ]
    }
   ],
   "source": [
    "tester = student_list\n",
    "print(\"INPUT LIST\")\n",
    "print(tester)\n",
    "\n",
    "def max_heapify(input_array, current_root_index):\n",
    "    left_index = 2 * current_root_index + 1\n",
    "    right_index = 2 * current_root_index + 2\n",
    "\n",
    "    current_weight = weight_calculator(input_array[current_root_index])\n",
    "    left_weight = weight_calculator(input_array[left_index]) if left_index < len(input_array) else 0\n",
    "    right_weight = weight_calculator(input_array[right_index]) if right_index < len(input_array) else 0\n",
    "\n",
    "    largest_item_index = current_root_index\n",
    "\n",
    "    if left_index < len(input_array) and left_weight >= current_weight:\n",
    "        largest_item_index = left_index\n",
    "\n",
    "    if right_index < len(input_array) and right_weight >= weight_calculator(input_array[largest_item_index]):\n",
    "        largest_item_index = right_index\n",
    "\n",
    "    if largest_item_index != current_root_index:\n",
    "        temp = input_array[current_root_index]\n",
    "        input_array[current_root_index] = input_array[largest_item_index]\n",
    "        input_array[largest_item_index] = temp\n",
    "        max_heapify(input_array, largest_item_index)\n",
    "\n",
    "    return input_array\n",
    "\n",
    "result = max_heapify(tester, 0)\n",
    "print()\n",
    "print(\"RESULT: \")\n",
    "print(result)\n"
   ],
   "metadata": {
    "collapsed": false,
    "ExecuteTime": {
     "end_time": "2023-10-22T14:57:22.375712Z",
     "start_time": "2023-10-22T14:57:22.369387Z"
    }
   },
   "id": "15cd3a8e21abd2b6"
  },
  {
   "cell_type": "code",
   "execution_count": 192,
   "outputs": [
    {
     "name": "stdout",
     "output_type": "stream",
     "text": [
      "['Grad', 'Sophomore, ELSE, 2.13', 'Grad', 'Freshman, CS/Math, 4.09', 'Junior, ELSE, 1.1', 'Grad', 'Freshman, ELSE, 5.03', 'Freshman, CS/Math, 4.05', 'Grad', 'Junior, CS/Math, 1.06', 'Sophomore, CS/Math, 2.08', 'Grad', 'Grad', 'Grad', 'Grad', 'Senior, ELSE, 3.01', 'Grad', 'Grad', 'Grad', 'Senior, CS/Math, 2.11', 'Grad', 'Freshman, ELSE, 5.07', 'Senior, ELSE, 3.14', 'Senior, CS/Math, 1.04', 'Sophomore, ELSE, 4.12', 'Grad', 'Grad', 'Senior, CS/Math, 5.0', 'Grad', 'Junior, ELSE, 3.02']\n"
     ]
    }
   ],
   "source": [
    "# So now the goal is to start popping the root of the heap, putting it into a final list, and re-max-heapify\n",
    "# if this works as intended, we will see that grad students will be the first to come out, and then Seniors CS MATH, etc ...\n",
    "final_list = []\n",
    "\n",
    "initial_heap = max_heapify(student_list, 0)\n",
    "print(initial_heap)\n",
    "\n",
    "while len(initial_heap) > 1:\n",
    "    current_root = initial_heap.pop(0)\n",
    "    final_list.append(current_root)\n",
    "    \n",
    "    initial_heap = max_heapify(initial_heap, 0)\n",
    "\n",
    "\n"
   ],
   "metadata": {
    "collapsed": false,
    "ExecuteTime": {
     "end_time": "2023-10-22T14:57:22.376364Z",
     "start_time": "2023-10-22T14:57:22.373051Z"
    }
   },
   "id": "149193dae828bef7"
  },
  {
   "cell_type": "code",
   "execution_count": 196,
   "outputs": [
    {
     "name": "stdout",
     "output_type": "stream",
     "text": [
      "['Grad', 'Grad', 'Grad', 'Grad', 'Grad', 'Grad', 'Grad', 'Grad', 'Senior, CS/Math, 1.04', 'Grad', 'Grad', 'Grad', 'Grad', 'Grad', 'Junior, CS/Math, 1.06', 'Grad', 'Grad', 'Senior, CS/Math, 2.11', 'Sophomore, CS/Math, 2.08', 'Senior, ELSE, 3.14', 'Freshman, CS/Math, 4.05', 'Freshman, CS/Math, 4.09', 'Junior, ELSE, 1.1', 'Sophomore, ELSE, 2.13', 'Sophomore, ELSE, 4.12', 'Senior, CS/Math, 5.0', 'Senior, ELSE, 3.01', 'Junior, ELSE, 3.02', 'Freshman, ELSE, 5.07']\n",
      "Grad \n",
      " WEIGHT:  99999\n",
      "Grad \n",
      " WEIGHT:  99999\n",
      "Grad \n",
      " WEIGHT:  99999\n",
      "Grad \n",
      " WEIGHT:  99999\n",
      "Grad \n",
      " WEIGHT:  99999\n",
      "Grad \n",
      " WEIGHT:  99999\n",
      "Grad \n",
      " WEIGHT:  99999\n",
      "Grad \n",
      " WEIGHT:  99999\n",
      "Senior, CS/Math, 1.04 \n",
      " WEIGHT:  45.04\n",
      "Grad \n",
      " WEIGHT:  99999\n",
      "Grad \n",
      " WEIGHT:  99999\n",
      "Grad \n",
      " WEIGHT:  99999\n",
      "Grad \n",
      " WEIGHT:  99999\n",
      "Grad \n",
      " WEIGHT:  99999\n",
      "Junior, CS/Math, 1.06 \n",
      " WEIGHT:  35.06\n",
      "Grad \n",
      " WEIGHT:  99999\n",
      "Grad \n",
      " WEIGHT:  99999\n",
      "Senior, CS/Math, 2.11 \n",
      " WEIGHT:  44.11\n",
      "Sophomore, CS/Math, 2.08 \n",
      " WEIGHT:  24.08\n",
      "Senior, ELSE, 3.14 \n",
      " WEIGHT:  7.14\n",
      "Freshman, CS/Math, 4.05 \n",
      " WEIGHT:  12.05\n",
      "Freshman, CS/Math, 4.09 \n",
      " WEIGHT:  12.09\n",
      "Junior, ELSE, 1.1 \n",
      " WEIGHT:  8.1\n",
      "Sophomore, ELSE, 2.13 \n",
      " WEIGHT:  6.13\n",
      "Sophomore, ELSE, 4.12 \n",
      " WEIGHT:  4.12\n",
      "Senior, CS/Math, 5.0 \n",
      " WEIGHT:  41.0\n",
      "Senior, ELSE, 3.01 \n",
      " WEIGHT:  7.01\n",
      "Junior, ELSE, 3.02 \n",
      " WEIGHT:  6.02\n",
      "Freshman, ELSE, 5.07 \n",
      " WEIGHT:  2.07\n"
     ]
    }
   ],
   "source": [
    "print(final_list)\n",
    "\n",
    "# This is to show you each final student and their over all weight: \n",
    "for student in final_list:\n",
    "    print(student, \"\\n\", \"WEIGHT: \",weight_calculator(student))"
   ],
   "metadata": {
    "collapsed": false,
    "ExecuteTime": {
     "end_time": "2023-10-22T15:01:39.925512Z",
     "start_time": "2023-10-22T15:01:39.915524Z"
    }
   },
   "id": "e2e64f1b6b978cba"
  },
  {
   "cell_type": "code",
   "execution_count": null,
   "outputs": [],
   "source": [],
   "metadata": {
    "collapsed": false
   },
   "id": "72ea198b2d222c3a"
  }
 ],
 "metadata": {
  "kernelspec": {
   "display_name": "Python 3",
   "language": "python",
   "name": "python3"
  },
  "language_info": {
   "codemirror_mode": {
    "name": "ipython",
    "version": 2
   },
   "file_extension": ".py",
   "mimetype": "text/x-python",
   "name": "python",
   "nbconvert_exporter": "python",
   "pygments_lexer": "ipython2",
   "version": "2.7.6"
  }
 },
 "nbformat": 4,
 "nbformat_minor": 5
}
