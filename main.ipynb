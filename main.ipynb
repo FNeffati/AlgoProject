{
 "cells": [
  {
   "cell_type": "markdown",
   "source": [
    "# Group Project \n",
    "\n",
    "This File will have the main algorithms for the project and it will also have the test cases and all related explanations\n",
    "\n",
    "### Authors: Raymond Bidini, Sujit Sivadanam, Fehmi Neffati "
   ],
   "metadata": {
    "collapsed": false
   },
   "id": "84948f45c0557065"
  },
  {
   "cell_type": "code",
   "execution_count": null,
   "id": "initial_id",
   "metadata": {
    "collapsed": true
   },
   "outputs": [],
   "source": [
    "g"
   ]
  }
 ],
 "metadata": {
  "kernelspec": {
   "display_name": "Python 3",
   "language": "python",
   "name": "python3"
  },
  "language_info": {
   "codemirror_mode": {
    "name": "ipython",
    "version": 2
   },
   "file_extension": ".py",
   "mimetype": "text/x-python",
   "name": "python",
   "nbconvert_exporter": "python",
   "pygments_lexer": "ipython2",
   "version": "2.7.6"
  }
 },
 "nbformat": 4,
 "nbformat_minor": 5
}
